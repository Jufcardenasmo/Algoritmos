{
 "cells": [
  {
   "cell_type": "markdown",
   "metadata": {},
   "source": [
    "# Insertion Sort: Pasos, Comparaciones, e Intercambios"
   ]
  },
  {
   "cell_type": "code",
   "execution_count": 1,
   "metadata": {},
   "outputs": [],
   "source": [
    "import numpy as np\n",
    "import time\n",
    "import itertools\n",
    "import random\n",
    "import matplotlib.pyplot as plt\n",
    "from collections import Counter\n",
    "from collections import OrderedDict"
   ]
  },
  {
   "cell_type": "markdown",
   "metadata": {},
   "source": [
    "## Sorting"
   ]
  },
  {
   "cell_type": "code",
   "execution_count": 2,
   "metadata": {},
   "outputs": [],
   "source": [
    "def in_sort(A):\n",
    "    L = np.array(A)\n",
    "    steps,comps,swaps = 0,0,0\n",
    "    t=np.zeros(len(L), dtype=int)\n",
    "    i = 1\n",
    "    while(i<len(L)):\n",
    "        temp = L[i]\n",
    "        j=i-1\n",
    "        while(True):\n",
    "            comps+=1\n",
    "            t[i]+=1\n",
    "            if(j<0): \n",
    "                break\n",
    "            if(temp >= L[j]): \n",
    "                break\n",
    "            swaps+=1\n",
    "            L[j+1] = L[j]\n",
    "            j-=1\n",
    "            steps+=3\n",
    "        L[j+1] = temp\n",
    "        steps+=1\n",
    "        i+=1\n",
    "        steps+=4\n",
    "    steps+=1\n",
    "    return A, steps,comps,swaps\n"
   ]
  },
  {
   "cell_type": "markdown",
   "metadata": {},
   "source": [
    "## Ejecutar la funcion por cada iteracion de un arreglo de tamaño n."
   ]
  },
  {
   "cell_type": "code",
   "execution_count": 3,
   "metadata": {},
   "outputs": [],
   "source": [
    "def perm(size):\n",
    "    arr = itertools.permutations(range(size))\n",
    "    stepsList, compsList, swapsList = [], [], []\n",
    "    for p in arr:\n",
    "        L = np.array(p)\n",
    "        steps,comps,swaps = 0,0,0\n",
    "        t=np.zeros(len(L), dtype=int)\n",
    "        i = 1\n",
    "        while(i<len(L)):\n",
    "            temp = L[i]\n",
    "            j=i-1\n",
    "            while(True):\n",
    "                comps+=1\n",
    "                t[i]+=1\n",
    "                if(j<0): \n",
    "                    break\n",
    "                if(temp >= L[j]): \n",
    "                    break\n",
    "                swaps+=1\n",
    "                L[j+1] = L[j]\n",
    "                j-=1\n",
    "                steps+=3\n",
    "            L[j+1] = temp\n",
    "            steps+=1\n",
    "            i+=1\n",
    "            steps+=4\n",
    "        steps+=1\n",
    "        \n",
    "        stepsList.append(steps)\n",
    "        compsList.append(comps)\n",
    "        swapsList.append(swaps)\n",
    "        \n",
    "    \n",
    "    stepsCount = Counter(stepsList)\n",
    "    compsCount = Counter(compsList)\n",
    "    swapsCount = Counter(swapsList)\n",
    "    \n",
    "    print('Numero promedio de pasos para ordenar una lista de tamaño {}:\\n'.format(size), np.mean(stepsList))\n",
    "    print('Numero minimo de pasos para ordenar una lista de tamaño {}:\\n'.format(size), min(stepsList))\n",
    "    print('Numero maximo de pasos para ordenar una lista de tamaño {}:\\n'.format(size), max(stepsList))\n",
    "    \n",
    "    plt.bar(range(len(stepsCount)), list(stepsCount.values()), align='center', width=0.4, color='orange')\n",
    "    plt.xticks(range(len(stepsCount)), list(stepsCount.keys()))\n",
    "    plt.xlabel('Número de steps')\n",
    "    plt.ylabel('Ocurrencias')\n",
    "    plt.title('Pasos por n = {}'.format(size))\n",
    "    \n",
    "    print('\\nDistribucion:')\n",
    "    plt.show()\n",
    "    \n",
    "    print('------------\\n')\n",
    "    \n",
    "    print('Numero promedio de comparaciones para ordenar una lista de tamaño {}:\\n'.format(size), np.mean(compsList))\n",
    "    print('Numero minimo de comparaciones para ordenar una lista de tamaño {}:\\n'.format(size), min(compsList))\n",
    "    print('Numero maximo de comparaciones para ordenar una lista de tamaño {}:\\n'.format(size), max(compsList))\n",
    "    \n",
    "    plt.bar(range(len(compsCount)), list(compsCount.values()), align='center', width=0.4, color='cyan')\n",
    "    plt.xticks(range(len(compsCount)), list(compsCount.keys()))\n",
    "    plt.xlabel('Número de comparaciones')\n",
    "    plt.ylabel('Ocurrencias')\n",
    "    plt.title('Comps por n = {}'.format(size))\n",
    "    \n",
    "    print('\\nDistribucion:')\n",
    "    plt.show()\n",
    "    \n",
    "    print('------------\\n')\n",
    "    \n",
    "    print('Numero promedio de swaps para ordenar una lista de tamaño {}:\\n'.format(size), np.mean(swapsList))\n",
    "    print('Numero minimo de swaps para ordenar una lista de tamaño {}:\\n'.format(size), min(swapsList))\n",
    "    print('Numero maximo de swaps para ordenar una lista de tamaño {}:\\n'.format(size), max(swapsList))\n",
    "    \n",
    "    plt.bar(range(len(swapsCount)), list(swapsCount.values()), align='center', width=0.4, color='red')\n",
    "    plt.xticks(range(len(swapsCount)), list(swapsCount.keys()))\n",
    "    plt.xlabel('Número de swaps')\n",
    "    plt.ylabel('Ocurrencias')\n",
    "    plt.title('Swaps por n = {}'.format(size))\n",
    "    \n",
    "    print('\\nDistribucion:')\n",
    "    plt.show()\n",
    "    \n",
    "    \n",
    "    "
   ]
  },
  {
   "cell_type": "markdown",
   "metadata": {},
   "source": [
    "## Output"
   ]
  },
  {
   "cell_type": "code",
   "execution_count": 4,
   "metadata": {},
   "outputs": [
    {
     "name": "stdout",
     "output_type": "stream",
     "text": [
      "Numero promedio de pasos para ordenar una lista de tamaño 7:\n",
      " 62.5\n",
      "Numero minimo de pasos para ordenar una lista de tamaño 7:\n",
      " 31\n",
      "Numero maximo de pasos para ordenar una lista de tamaño 7:\n",
      " 94\n",
      "\n",
      "Distribucion:\n"
     ]
    },
    {
     "data": {
      "image/png": "[encoded data removed]",
      "text/plain": [
       "<Figure size 432x288 with 1 Axes>"
      ]
     },
     "metadata": {
      "needs_background": "light"
     },
     "output_type": "display_data"
    },
    {
     "name": "stdout",
     "output_type": "stream",
     "text": [
      "------------\n",
      "\n",
      "Numero promedio de comparaciones para ordenar una lista de tamaño 7:\n",
      " 16.5\n",
      "Numero minimo de comparaciones para ordenar una lista de tamaño 7:\n",
      " 6\n",
      "Numero maximo de comparaciones para ordenar una lista de tamaño 7:\n",
      " 27\n",
      "\n",
      "Distribucion:\n"
     ]
    },
    {
     "data": {
      "image/png": "[encoded data removed]",
      "text/plain": [
       "<Figure size 432x288 with 1 Axes>"
      ]
     },
     "metadata": {
      "needs_background": "light"
     },
     "output_type": "display_data"
    },
    {
     "name": "stdout",
     "output_type": "stream",
     "text": [
      "------------\n",
      "\n",
      "Numero promedio de swaps para ordenar una lista de tamaño 7:\n",
      " 10.5\n",
      "Numero minimo de swaps para ordenar una lista de tamaño 7:\n",
      " 0\n",
      "Numero maximo de swaps para ordenar una lista de tamaño 7:\n",
      " 21\n",
      "\n",
      "Distribucion:\n"
     ]
    },
    {
     "data": {
      "image/png": "[encoded data removed]",
      "text/plain": [
       "<Figure size 432x288 with 1 Axes>"
      ]
     },
     "metadata": {
      "needs_background": "light"
     },
     "output_type": "display_data"
    }
   ],
   "source": [
    "perm(7)\n"
   ]
  },
  {
   "cell_type": "markdown",
   "metadata": {},
   "source": [
    "## Ejecutar la funcion para 2*n permutaciones aleatorias de tamaño 'n'."
   ]
  },
  {
   "cell_type": "code",
   "execution_count": 5,
   "metadata": {},
   "outputs": [],
   "source": [
    "def randPerm(size):\n",
    "    arr = list(range(size))\n",
    "    final = []\n",
    "    stepsList, compsList, swapsList = [], [], []\n",
    "    for i in range(2*size):\n",
    "        random.shuffle(arr)\n",
    "        final.append(list(arr))\n",
    "    \n",
    "    for p in range(len(final)):\n",
    "        L = np.array(final[p])\n",
    "        steps,comps,swaps = 0,0,0\n",
    "        t=np.zeros(len(L), dtype=int)\n",
    "        i = 1\n",
    "        while(i<len(L)):\n",
    "            temp = L[i]\n",
    "            j=i-1\n",
    "            while(True):\n",
    "                comps+=1\n",
    "                t[i]+=1\n",
    "                if(j<0): \n",
    "                    break\n",
    "                if(temp >= L[j]): \n",
    "                    break\n",
    "                swaps+=1\n",
    "                L[j+1] = L[j]\n",
    "                j-=1\n",
    "                steps+=3\n",
    "            L[j+1] = temp\n",
    "            steps+=1\n",
    "            i+=1\n",
    "            steps+=4\n",
    "        steps+=1\n",
    "        \n",
    "        stepsList.append(steps)\n",
    "        compsList.append(comps)\n",
    "        swapsList.append(swaps)\n",
    "        \n",
    "    \n",
    "    stepsCount = Counter(stepsList)\n",
    "    stepsB = OrderedDict(sorted(stepsCount.items()))\n",
    "    compsCount = Counter(compsList)\n",
    "    compsB = OrderedDict(sorted(compsCount.items()))\n",
    "    swapsCount = Counter(swapsList)\n",
    "    swapsB = OrderedDict(sorted(swapsCount.items()))\n",
    "    \n",
    "    print('Numero promedio de pasos luego de ordenar {} listas aleatorias de tamaño {}:\\n'.format(2*size, size), np.mean(stepsList))\n",
    "    print('Numero minimo de pasos luego de ordenar {} listas aleatorias de tamaño {}:\\n'.format(2*size, size), min(stepsList))\n",
    "    print('Numero maximo de pasos luego de ordenar {} listas aleatorias de tamaño {}:\\n'.format(2*size, size), max(stepsList))\n",
    "    \n",
    "    plt.bar(range(len(stepsB)), list(stepsB.values()), align='center', width=0.4, color='orange')\n",
    "    plt.xticks(range(len(stepsB)), list(stepsB.keys()))\n",
    "    plt.xlabel('Número de steps')\n",
    "    plt.ylabel('Ocurrencias')\n",
    "    plt.title('Pasos por n ={}'.format(size))\n",
    "        \n",
    "    print('\\nDistribucion:')\n",
    "    plt.show()\n",
    "    \n",
    "    print('------------\\n')\n",
    "    \n",
    "    print('Numero promedio de comparaciones luego de ordenar {} listas aleatorias de tamaño {}:\\n'.format(2*size, size), np.mean(compsList))\n",
    "    print('Numero minimo de comparaciones luego de ordenar {} listas aleatorias de tamaño {}:\\n'.format(2*size, size), min(compsList))\n",
    "    print('Numero maximo de comparaciones luego de ordenar {} listas aleatorias de tamaño {}:\\n'.format(2*size, size), max(compsList))\n",
    "    \n",
    "    plt.bar(range(len(compsB)), list(compsB.values()), align='center', width=0.4, color='cyan')\n",
    "    plt.xticks(range(len(compsB)), list(compsB.keys()))\n",
    "    plt.xlabel('Número de comparaciones')\n",
    "    plt.ylabel('Ocurrencias')\n",
    "    plt.title('Comps por n = {}'.format(size))\n",
    "    \n",
    "    print('\\nDistribucion:')\n",
    "    plt.show()\n",
    "    \n",
    "    print('------------\\n')\n",
    "    \n",
    "    print('Numero promedio de swaps luego de ordenar {} listas aleatorias de tamaño {}:\\n'.format(2*size, size), np.mean(swapsList))\n",
    "    print('Numero minimo de swaps luego de ordenar {} listas aleatorias de tamaño {}:\\n'.format(2*size, size), min(swapsList))\n",
    "    print('Numero maximo de swaps luego de ordenar {} listas aleatorias de tamaño {}:\\n'.format(2*size, size), max(swapsList))\n",
    "    \n",
    "\n",
    "    plt.bar(range(len(swapsB)), list(swapsB.values()), align='center', width=0.4, color='red')\n",
    "    plt.xticks(range(len(swapsB)), list(swapsB.keys()))\n",
    "    plt.xlabel('Número de swaps')\n",
    "    plt.ylabel('Ocurrencias')\n",
    "    plt.title('Swaps por n = {}'.format(size))\n",
    "    \n",
    "    print('\\nDistribucion:')\n",
    "    plt.show()\n",
    "    "
   ]
  },
  {
   "cell_type": "markdown",
   "metadata": {},
   "source": [
    "## Output"
   ]
  },
  {
   "cell_type": "code",
   "execution_count": 6,
   "metadata": {},
   "outputs": [
    {
     "name": "stdout",
     "output_type": "stream",
     "text": [
      "Numero promedio de pasos luego de ordenar 20 listas aleatorias de tamaño 10:\n",
      " 113.5\n",
      "Numero minimo de pasos luego de ordenar 20 listas aleatorias de tamaño 10:\n",
      " 76\n",
      "Numero maximo de pasos luego de ordenar 20 listas aleatorias de tamaño 10:\n",
      " 136\n",
      "\n",
      "Distribucion:\n"
     ]
    },
    {
     "data": {
      "image/png": "[encoded data removed]",
      "text/plain": [
       "<Figure size 432x288 with 1 Axes>"
      ]
     },
     "metadata": {
      "needs_background": "light"
     },
     "output_type": "display_data"
    },
    {
     "name": "stdout",
     "output_type": "stream",
     "text": [
      "------------\n",
      "\n",
      "Numero promedio de comparaciones luego de ordenar 20 listas aleatorias de tamaño 10:\n",
      " 31.5\n",
      "Numero minimo de comparaciones luego de ordenar 20 listas aleatorias de tamaño 10:\n",
      " 19\n",
      "Numero maximo de comparaciones luego de ordenar 20 listas aleatorias de tamaño 10:\n",
      " 39\n",
      "\n",
      "Distribucion:\n"
     ]
    },
    {
     "data": {
      "image/png": "[encoded data removed]",
      "text/plain": [
       "<Figure size 432x288 with 1 Axes>"
      ]
     },
     "metadata": {
      "needs_background": "light"
     },
     "output_type": "display_data"
    },
    {
     "name": "stdout",
     "output_type": "stream",
     "text": [
      "------------\n",
      "\n",
      "Numero promedio de swaps luego de ordenar 20 listas aleatorias de tamaño 10:\n",
      " 22.5\n",
      "Numero minimo de swaps luego de ordenar 20 listas aleatorias de tamaño 10:\n",
      " 10\n",
      "Numero maximo de swaps luego de ordenar 20 listas aleatorias de tamaño 10:\n",
      " 30\n",
      "\n",
      "Distribucion:\n"
     ]
    },
    {
     "data": {
      "image/png": "[encoded data removed]",
      "text/plain": [
       "<Figure size 432x288 with 1 Axes>"
      ]
     },
     "metadata": {
      "needs_background": "light"
     },
     "output_type": "display_data"
    }
   ],
   "source": [
    "randPerm(10)"
   ]
  },
  {
   "cell_type": "code",
   "execution_count": null,
   "metadata": {},
   "outputs": [],
   "source": []
  }
 ],
 "metadata": {
  "kernelspec": {
   "display_name": "Python 3",
   "language": "python",
   "name": "python3"
  },
  "language_info": {
   "codemirror_mode": {
    "name": "ipython",
    "version": 3
   },
   "file_extension": ".py",
   "mimetype": "text/x-python",
   "name": "python",
   "nbconvert_exporter": "python",
   "pygments_lexer": "ipython3",
   "version": "3.7.1"
  }
 },
 "nbformat": 4,
 "nbformat_minor": 2
}
