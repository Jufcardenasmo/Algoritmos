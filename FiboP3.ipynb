{
 "cells": [
  {
   "cell_type": "markdown",
   "metadata": {},
   "source": [
    "# Iterative program for obtaining the nth term of Fibonacci's sequence."
   ]
  },
  {
   "cell_type": "markdown",
   "metadata": {},
   "source": [
    "Usando el módulo \"time\", se marcan dos puntos en el tiempo; justo antes de comenzar el ciclo y justo después de salir del mismo. \n",
    "De este modo, la resta de estos dos marcadores devuelve el tiempo total que le tomó al programa calcular el enésimo número de la sucesión.\n"
   ]
  },
  {
   "cell_type": "code",
   "execution_count": 76,
   "metadata": {
    "scrolled": true
   },
   "outputs": [
    {
     "data": {
      "image/png": "0\n",
      "text/plain": [
       "<matplotlib.figure.Figure at 0x93fc34c588>"
      ]
     },
     "metadata": {},
     "output_type": "display_data"
    }
   ],
   "source": [
    "from matplotlib import pyplot\n",
    "import time \n",
    "\n",
    "def fibo(n):\n",
    "  prev = 0\n",
    "  curr = 1\n",
    "  next = 1\n",
    "  \n",
    "  if int(n) == 0:\n",
    "    return 0\n",
    "  elif int(n) == 1:\n",
    "    return 1\n",
    "  \n",
    "  start = time.time()\n",
    "  for i in range(n):\n",
    "    next = prev + curr\n",
    "    prev, curr = curr, next\n",
    "  finish = time.time()\n",
    "  t = finish-start\n",
    "  return ('%.4f' % t)\n",
    "\n",
    "    \n",
    "# Valores que se le van a pasar a la función.\n",
    "x = range(0, 10**5, 5000)\n",
    "# Graficar x contra f(x) y poner marcadores en los puntos.\n",
    "pyplot.plot(x, [fibo(i) for i in x], marker='o')\n",
    "\n",
    "# Establecer el color de los ejes.\n",
    "pyplot.axhline(0, color=\"black\")\n",
    "pyplot.axvline(0, color=\"black\")\n",
    "\n",
    "#Establecer los valores de referncia en el eje x.\n",
    "pl.xticks([i for i in range(0, 10**5 + 10**4, 2*10**4)])\n",
    "\n",
    "pyplot.title(\"Tiempo para calcular el enésimo término de fibonacci\")   # Establece el título del gráfico\n",
    "pyplot.xlabel(\"n\")   # Inserta el título del eje X \n",
    "pyplot.ylabel(\"Tiempo (s)\")   # Inserta el título del eje Y\n",
    "\n",
    "# Guardar gráfico como imágen PNG.\n",
    "pyplot.savefig(\"fiboPlot4.png\")\n",
    "# Mostrarlo.\n",
    "pyplot.show()\n",
    "\n",
    "\n"
   ]
  },
  {
   "cell_type": "code",
   "execution_count": null,
   "metadata": {},
   "outputs": [],
   "source": []
  }
 ],
 "metadata": {
  "kernelspec": {
   "display_name": "Python 3",
   "language": "python",
   "name": "python3"
  },
  "language_info": {
   "codemirror_mode": {
    "name": "ipython",
    "version": 3
   },
   "file_extension": ".py",
   "mimetype": "text/x-python",
   "name": "python",
   "nbconvert_exporter": "python",
   "pygments_lexer": "ipython3",
   "version": "3.6.4"
  }
 },
 "nbformat": 4,
 "nbformat_minor": 2
}

